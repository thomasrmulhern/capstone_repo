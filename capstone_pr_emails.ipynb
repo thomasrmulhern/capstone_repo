{
 "cells": [
  {
   "cell_type": "markdown",
   "metadata": {},
   "source": [
    "The root problem is that the manager of a PR firm would like to understand the strength of the relationships between her employees and their various contacts. If she has multiple employees that are in contact with the same person, how does she quantify the magnitude of their relationships, and who does he assign to reach out to that contact? \n",
    "\n",
    "The challenge we're addressing here is predicting whether a pitch email is likely to result in a positive result."
   ]
  },
  {
   "cell_type": "markdown",
   "metadata": {},
   "source": [
    "# IMPORT "
   ]
  },
  {
   "cell_type": "code",
   "execution_count": null,
   "metadata": {},
   "outputs": [],
   "source": [
    "import numpy as np\n",
    "import pandas as pd\n",
    "import pickle\n",
    "import matplotlib.pyplot as plt\n",
    "\n",
    "from tqdm import tqdm # This is an awesome package for tracking for loops\n",
    "from collections import OrderedDict, Counter\n",
    "from google.cloud import language\n",
    "from google.cloud.language import enums\n",
    "from google.cloud.language import types\n",
    "\n",
    "#from google.cloud import language\n",
    "\n",
    "%matplotlib inline"
   ]
  },
  {
   "cell_type": "code",
   "execution_count": null,
   "metadata": {},
   "outputs": [],
   "source": [
    "# pitches = pd.read_json('/Users/thomasmulhern/Downloads/pitchesDataJson/pitch.json')\n",
    "# responses = pd.read_json('/Users/thomasmulhern/Downloads/pitchesDataJson/response.json')\n",
    "# followup = pd.read_json('/Users/thomasmulhern/Downloads/pitchesDataJson/followup.json')\n",
    "# results = pd.read_json('/Users/thomasmulhern/Downloads/pitchesDataJson/result.json')"
   ]
  },
  {
   "cell_type": "code",
   "execution_count": null,
   "metadata": {},
   "outputs": [],
   "source": [
    "# Local file with functions for opening and writing .pickle files from/to the local 'pickles' folder\n",
    "from useful_functions import openp, writep"
   ]
  },
  {
   "cell_type": "code",
   "execution_count": null,
   "metadata": {},
   "outputs": [],
   "source": [
    "pitches = openp('pitches')"
   ]
  },
  {
   "cell_type": "code",
   "execution_count": null,
   "metadata": {},
   "outputs": [],
   "source": [
    "followup = openp('followup')"
   ]
  },
  {
   "cell_type": "code",
   "execution_count": null,
   "metadata": {},
   "outputs": [],
   "source": [
    "responses = openp('responses')"
   ]
  },
  {
   "cell_type": "code",
   "execution_count": null,
   "metadata": {},
   "outputs": [],
   "source": [
    "results = openp('results')"
   ]
  },
  {
   "cell_type": "code",
   "execution_count": null,
   "metadata": {},
   "outputs": [],
   "source": [
    "pitches_with_results = openp('pitches_with_results')"
   ]
  },
  {
   "cell_type": "raw",
   "metadata": {},
   "source": [
    "Pitches: Initial emails sent from users\n",
    "Followups: All outgoing email from users\n",
    "Responses: All incoming email from contacts\n",
    "Results: Culminating events (desirable and otherwise)\n",
    "\n",
    "-All four files have overlapping column labels\n",
    "-Pitches has labels unique from the other three\n",
    "-The other three have labels unique from Pitches, but not from each other"
   ]
  },
  {
   "cell_type": "code",
   "execution_count": null,
   "metadata": {},
   "outputs": [],
   "source": [
    "pitches"
   ]
  },
  {
   "cell_type": "code",
   "execution_count": null,
   "metadata": {},
   "outputs": [],
   "source": [
    "followup"
   ]
  },
  {
   "cell_type": "code",
   "execution_count": null,
   "metadata": {},
   "outputs": [],
   "source": [
    "responses"
   ]
  },
  {
   "cell_type": "code",
   "execution_count": null,
   "metadata": {
    "scrolled": true
   },
   "outputs": [],
   "source": [
    "results"
   ]
  },
  {
   "cell_type": "code",
   "execution_count": null,
   "metadata": {},
   "outputs": [],
   "source": [
    "pitches_with_results"
   ]
  },
  {
   "cell_type": "markdown",
   "metadata": {},
   "source": [
    "### Labels that are in Results, but not Pitches"
   ]
  },
  {
   "cell_type": "code",
   "execution_count": null,
   "metadata": {},
   "outputs": [],
   "source": [
    "results_unique_labels = list(results.columns.difference(pitches.columns))\n",
    "results_unique_labels"
   ]
  },
  {
   "cell_type": "markdown",
   "metadata": {},
   "source": [
    "### Labels that are in Pitches, but not Results"
   ]
  },
  {
   "cell_type": "code",
   "execution_count": null,
   "metadata": {},
   "outputs": [],
   "source": [
    "pitches_unique_labels = list(pitches.columns.difference(results.columns))\n",
    "pitches_unique_labels"
   ]
  },
  {
   "cell_type": "code",
   "execution_count": null,
   "metadata": {},
   "outputs": [],
   "source": [
    "# Are the results only positive?\n",
    "# ANSWER: NO\n",
    "\n",
    "results[results['type']=='Other']['tone'].value_counts()"
   ]
  },
  {
   "cell_type": "markdown",
   "metadata": {},
   "source": [
    "# EDA"
   ]
  },
  {
   "cell_type": "raw",
   "metadata": {},
   "source": [
    "If there are 18k+ results and 2396 contacts, how are those results distributed amongst them?\n",
    "How many unique contacts has each user reached out to?\n",
    "How many times has each user reached out to each contact?\n",
    "What is the overlap between users with contacts?\n",
    "What is the overlap between users with contacts"
   ]
  },
  {
   "cell_type": "markdown",
   "metadata": {},
   "source": [
    "#### What percentage of the results are positive?"
   ]
  },
  {
   "cell_type": "code",
   "execution_count": null,
   "metadata": {},
   "outputs": [],
   "source": [
    "# What percentage of the results are positive?\n",
    "tonecounts = results['tone'].value_counts()\n",
    "positive_precentage = tonecounts['Positive'] / sum(tonecounts)\n",
    "\n",
    "print ('positive result count: {0} \\ntotal result count: {1}\\n% of positive result:\\\n",
    " {2}%'.format(tonecounts['Positive'],sum(tonecounts),np.round(positive_precentage, 3)*100))"
   ]
  },
  {
   "cell_type": "markdown",
   "metadata": {},
   "source": [
    "#### How many unique users have positive results?"
   ]
  },
  {
   "cell_type": "code",
   "execution_count": null,
   "metadata": {},
   "outputs": [],
   "source": [
    "# How many users?\n",
    "num_users = len(pitches['user_id'].unique())\n",
    "\n",
    "# How many users with positive results?\n",
    "user_with_results = len(results['user_id'].unique())\n",
    "positive_results = results[results['tone']=='Positive']\n",
    "positive_results_users = positive_results['user_id'].unique()\n",
    "positive_results_users_percentage = len(positive_results_users) / num_users\n",
    "\n",
    "print('users making pitches: {}\\nusers with results: {}\\nusers with positive results: {} \\n% of users with positive\\\n",
    " results: {}%'.format(num_users,user_with_results, len(positive_results_users),\n",
    "                              np.round(positive_results_users_percentage, 3)*100))"
   ]
  },
  {
   "cell_type": "markdown",
   "metadata": {},
   "source": [
    "#### How many campaigns end with positive results?"
   ]
  },
  {
   "cell_type": "code",
   "execution_count": null,
   "metadata": {},
   "outputs": [],
   "source": [
    "# How many campaigns pitched?\n",
    "num_campaigns = len(pitches['campaign_id'].unique())\n",
    "\n",
    "# How many campaigns end with results?\n",
    "campaigns_with_results = results['campaign_id'] #len(campaigns_with_results.unique())\n",
    "\n",
    "# How many campaigns ended with positve results?\n",
    "campaigns_with_positive_results = len(positive_results['campaign_id'].unique())\n",
    "\n",
    "# What percentage of campaigns end with positive results?\n",
    "positive_campaigns_percentage = campaigns_with_positive_results / num_campaigns\n",
    "\n",
    "print('number of campaigns: {0} \\ncampaigns ending in results: {1} \\ncampaigns ending in positive results: \\\n",
    "{2} \\n% of campaigns ending in positive results: {3}%'.format(num_campaigns, len(campaigns_with_results.unique()),\n",
    "                                                              campaigns_with_positive_results,\n",
    "                                                              np.round(positive_campaigns_percentage, 3)*100))"
   ]
  },
  {
   "cell_type": "markdown",
   "metadata": {},
   "source": [
    "#### Which campaigns ended with a positive result?"
   ]
  },
  {
   "cell_type": "code",
   "execution_count": null,
   "metadata": {},
   "outputs": [],
   "source": [
    "# Which campaigns ended with positive results? \n",
    "successful_campaigns = results[results['tone']=='Positive']['campaign_id'].unique()\n",
    "\n",
    "print('first five positive campaigns (unordered): \\n{0}'.format(successful_campaigns[:5]))"
   ]
  },
  {
   "cell_type": "markdown",
   "metadata": {},
   "source": [
    "#### How many contacts create positive results?"
   ]
  },
  {
   "cell_type": "code",
   "execution_count": null,
   "metadata": {},
   "outputs": [],
   "source": [
    "# How many contacts are there?\n",
    "num_contacts = len(pitches['contact_id'].unique())\n",
    "\n",
    "# How many contacts have delivered some result?\n",
    "num_contacts_results = len(results['contact_id'].unique())\n",
    "\n",
    "# How many contacts have delivered positive results?\n",
    "num_contacts_positive_results =  len(positive_results['contact_id'].unique())\n",
    "\n",
    "# Percentage of contacts that end with positive results?\n",
    "contacts_positive_results_percentage = num_contacts_positive_results / num_contacts\n",
    "\n",
    "print('number of contacts: {0}\\ncontacts with results: {1}\\ncontacts with positive results: {2}\\n% of contacts\\\n",
    " with positive results: {3}%'.format(num_contacts, num_contacts_results, num_contacts_positive_results,\n",
    "                                    np.round(contacts_positive_results_percentage, 3)*100))"
   ]
  },
  {
   "cell_type": "markdown",
   "metadata": {},
   "source": [
    "#### Who are the top clients by number of campaigns?"
   ]
  },
  {
   "cell_type": "code",
   "execution_count": null,
   "metadata": {},
   "outputs": [],
   "source": [
    "# How may clients are running campaigns?\n",
    "clients = len(pitches['client_id'].unique())\n",
    "\n",
    "# How many campaigns has each client run?\n",
    "grouped = pitches.groupby('client_id')\n",
    "campaigns_per_client = dict(grouped.campaign_id.count())\n",
    "\n",
    "# Who are the top clients by number of campaigns?\n",
    "top_clients = OrderedDict(Counter(campaigns_per_client).most_common(20))\n",
    "\n",
    "print('Number of clients: ', clients)\n",
    "print('\\nTop clients by number of campaigns (id, count): ')\n",
    "top_clients\n"
   ]
  },
  {
   "cell_type": "markdown",
   "metadata": {},
   "source": [
    "#### How many successful campaigns have they had?"
   ]
  },
  {
   "cell_type": "code",
   "execution_count": null,
   "metadata": {},
   "outputs": [],
   "source": [
    "# Top client's count of positive results\n",
    "def calc_top_client_positive_results(lst):\n",
    "    positive_res = OrderedDict()\n",
    "    for key in lst:\n",
    "        positive_res[key] = len(positive_results[positive_results['client_id']==key])\n",
    "    return positive_res\n",
    "top_client_positive_results = calc_top_client_positive_results(top_clients)\n",
    "\n",
    "print(\"Top client's count of positive results:\")\n",
    "top_client_positive_results"
   ]
  },
  {
   "cell_type": "markdown",
   "metadata": {},
   "source": [
    "#### What are those client's rates of success?"
   ]
  },
  {
   "cell_type": "code",
   "execution_count": null,
   "metadata": {},
   "outputs": [],
   "source": [
    "success_percent = OrderedDict()\n",
    "for k,v in top_clients.items():\n",
    "    for p,q in top_client_positive_results.items():\n",
    "        if k==p:\n",
    "            success_percent[k] = ('{0}%'.format(np.round((q/v)*100, 1)))\n",
    "print(\"Top client's historical rates of positive success:\")\n",
    "success_percent"
   ]
  },
  {
   "cell_type": "code",
   "execution_count": null,
   "metadata": {},
   "outputs": [],
   "source": [
    "plt.bar(range(len(success_percent)), success_percent.values(), align = 'center')\n",
    "_ = plt.xticks(range(len(success_percent)), success_percent.keys())\n",
    "plt.margins(0.05, 0)"
   ]
  },
  {
   "cell_type": "markdown",
   "metadata": {},
   "source": [
    "#### Who are the most prolific users?"
   ]
  },
  {
   "cell_type": "code",
   "execution_count": null,
   "metadata": {},
   "outputs": [],
   "source": [
    "# How may users have run campaigns?\n",
    "users = len(pitches['user_id'].unique())\n",
    "\n",
    "# How many campaigns has each user run?\n",
    "grouped = pitches.groupby('user_id')\n",
    "campaigns_per_user = dict(grouped.campaign_id.count())\n",
    "\n",
    "# Who are the top users by number of campaigns?\n",
    "top_users = OrderedDict(Counter(campaigns_per_user).most_common(20))\n",
    "\n",
    "print('Number of users: ', users)\n",
    "print('\\nTop 20 users by number of campaigns (id, count): ')\n",
    "top_users\n"
   ]
  },
  {
   "cell_type": "code",
   "execution_count": null,
   "metadata": {},
   "outputs": [],
   "source": [
    "z =  np.round(sum(top_users.values())/len(pitches)*100, 1)\n",
    "print('The top 20 users have {}% of the pitches'.format(z))"
   ]
  },
  {
   "cell_type": "markdown",
   "metadata": {},
   "source": [
    "#### Who are the most successful users?"
   ]
  },
  {
   "cell_type": "code",
   "execution_count": null,
   "metadata": {},
   "outputs": [],
   "source": [
    "grouped = positive_results.groupby('user_id')\n",
    "successful_campaigns_per_user = dict(grouped.campaign_id.count())\n",
    "\n",
    "#successful_campaigns_per_user\n",
    "successful_users = OrderedDict(Counter(successful_campaigns_per_user).most_common(20))\n",
    "successful_users"
   ]
  },
  {
   "cell_type": "code",
   "execution_count": null,
   "metadata": {},
   "outputs": [],
   "source": [
    "z =  np.round(sum(successful_users.values())/len(positive_results), 3)*100\n",
    "print('The top 20 users have {}% of the positive results'.format(z))"
   ]
  },
  {
   "cell_type": "code",
   "execution_count": null,
   "metadata": {},
   "outputs": [],
   "source": []
  },
  {
   "cell_type": "code",
   "execution_count": null,
   "metadata": {},
   "outputs": [],
   "source": []
  },
  {
   "cell_type": "code",
   "execution_count": null,
   "metadata": {},
   "outputs": [],
   "source": []
  },
  {
   "cell_type": "code",
   "execution_count": null,
   "metadata": {},
   "outputs": [],
   "source": [
    "positive_results\n",
    "len(positive_results)"
   ]
  },
  {
   "cell_type": "code",
   "execution_count": null,
   "metadata": {},
   "outputs": [],
   "source": [
    "len(positive_results['campaign_id'].unique())"
   ]
  },
  {
   "cell_type": "code",
   "execution_count": null,
   "metadata": {},
   "outputs": [],
   "source": [
    "list(positive_results['campaign_id'].unique())"
   ]
  },
  {
   "cell_type": "code",
   "execution_count": null,
   "metadata": {},
   "outputs": [],
   "source": [
    "x = [type(x) for x in positive_results['pitch_id']]\n",
    "len(x)"
   ]
  },
  {
   "cell_type": "code",
   "execution_count": null,
   "metadata": {},
   "outputs": [],
   "source": [
    "x = [type(x) for x in positive_results['pitch_id']]\n",
    "Counter(x)"
   ]
  },
  {
   "cell_type": "code",
   "execution_count": null,
   "metadata": {},
   "outputs": [],
   "source": [
    "type(positive_results['pitch_id'][1])"
   ]
  },
  {
   "cell_type": "code",
   "execution_count": null,
   "metadata": {},
   "outputs": [],
   "source": [
    "positive_results.columns"
   ]
  },
  {
   "cell_type": "code",
   "execution_count": null,
   "metadata": {},
   "outputs": [],
   "source": [
    "len(results)"
   ]
  },
  {
   "cell_type": "code",
   "execution_count": null,
   "metadata": {},
   "outputs": [],
   "source": [
    "results['tone'].value_counts()"
   ]
  },
  {
   "cell_type": "code",
   "execution_count": null,
   "metadata": {},
   "outputs": [],
   "source": [
    "10329/sum(results['tone'].value_counts())"
   ]
  },
  {
   "cell_type": "code",
   "execution_count": null,
   "metadata": {},
   "outputs": [],
   "source": [
    "results['tone'].unique()"
   ]
  },
  {
   "cell_type": "code",
   "execution_count": null,
   "metadata": {},
   "outputs": [],
   "source": [
    "cresults = results[results['tone']!=\"Don't even count it\"]"
   ]
  },
  {
   "cell_type": "code",
   "execution_count": null,
   "metadata": {},
   "outputs": [],
   "source": [
    "cresults['tone'].value_counts()"
   ]
  },
  {
   "cell_type": "code",
   "execution_count": null,
   "metadata": {},
   "outputs": [],
   "source": [
    "x = cresults['pitch_id'].isnull().value_counts()\n",
    "x"
   ]
  },
  {
   "cell_type": "code",
   "execution_count": null,
   "metadata": {},
   "outputs": [],
   "source": [
    "nums = 5240/12769\n",
    "nums"
   ]
  },
  {
   "cell_type": "code",
   "execution_count": null,
   "metadata": {},
   "outputs": [],
   "source": [
    "nulls = 1 - 0.41036886208786905\n",
    "nulls"
   ]
  },
  {
   "cell_type": "code",
   "execution_count": null,
   "metadata": {},
   "outputs": [],
   "source": [
    "results_with_pitch_id = results['pitch_id']"
   ]
  },
  {
   "cell_type": "code",
   "execution_count": null,
   "metadata": {},
   "outputs": [],
   "source": [
    "results_with_pitch_id = np.array([x for x in results_with_pitch_id\\\n",
    "                                  if type(x) != type(None)])"
   ]
  },
  {
   "cell_type": "code",
   "execution_count": null,
   "metadata": {},
   "outputs": [],
   "source": [
    "len(results_with_pitch_id)"
   ]
  },
  {
   "cell_type": "markdown",
   "metadata": {},
   "source": [
    "## ADD COLUMN TO PITCHES THAT TIES THEM TO RESULTS"
   ]
  },
  {
   "cell_type": "code",
   "execution_count": null,
   "metadata": {},
   "outputs": [],
   "source": [
    "#print(len(pitches['results']), len(pitches['id']))\n",
    "#pitches['results'])\n",
    "# pitches['results'] = 0\n",
    "def add_results(series):\n",
    "    \n",
    "# pitches['results'][pitches['id'].isin(results_with_pitch_id)] = 1\n"
   ]
  },
  {
   "cell_type": "code",
   "execution_count": null,
   "metadata": {},
   "outputs": [],
   "source": [
    "pitches['results'].value_counts()"
   ]
  },
  {
   "cell_type": "code",
   "execution_count": null,
   "metadata": {},
   "outputs": [],
   "source": [
    "pitches"
   ]
  },
  {
   "cell_type": "code",
   "execution_count": null,
   "metadata": {},
   "outputs": [],
   "source": [
    "len(pitches)"
   ]
  },
  {
   "cell_type": "code",
   "execution_count": null,
   "metadata": {},
   "outputs": [],
   "source": [
    "len(results)"
   ]
  },
  {
   "cell_type": "code",
   "execution_count": null,
   "metadata": {},
   "outputs": [],
   "source": [
    "#len(positive_results)"
   ]
  },
  {
   "cell_type": "code",
   "execution_count": null,
   "metadata": {},
   "outputs": [],
   "source": [
    "#results['pitch_id'].value_counts()"
   ]
  },
  {
   "cell_type": "code",
   "execution_count": null,
   "metadata": {},
   "outputs": [],
   "source": [
    "results['pitch_id'].value_counts()"
   ]
  },
  {
   "cell_type": "code",
   "execution_count": null,
   "metadata": {},
   "outputs": [],
   "source": [
    "len(results['pitch_id'].unique())"
   ]
  },
  {
   "cell_type": "code",
   "execution_count": null,
   "metadata": {},
   "outputs": [],
   "source": [
    "x = [type(x) for x in positive_results['pitch_id']]\n",
    "Counter(x)"
   ]
  },
  {
   "cell_type": "code",
   "execution_count": null,
   "metadata": {},
   "outputs": [],
   "source": [
    "4204/90573"
   ]
  },
  {
   "cell_type": "code",
   "execution_count": null,
   "metadata": {},
   "outputs": [],
   "source": [
    "# pitches['score'] = 0\n",
    "# pitches['magnitude'] = 0"
   ]
  },
  {
   "cell_type": "code",
   "execution_count": null,
   "metadata": {},
   "outputs": [],
   "source": []
  },
  {
   "cell_type": "code",
   "execution_count": null,
   "metadata": {},
   "outputs": [],
   "source": []
  },
  {
   "cell_type": "code",
   "execution_count": null,
   "metadata": {},
   "outputs": [],
   "source": []
  },
  {
   "cell_type": "code",
   "execution_count": null,
   "metadata": {},
   "outputs": [],
   "source": []
  },
  {
   "cell_type": "code",
   "execution_count": null,
   "metadata": {},
   "outputs": [],
   "source": []
  },
  {
   "cell_type": "code",
   "execution_count": null,
   "metadata": {},
   "outputs": [],
   "source": []
  },
  {
   "cell_type": "code",
   "execution_count": null,
   "metadata": {},
   "outputs": [],
   "source": []
  },
  {
   "cell_type": "code",
   "execution_count": null,
   "metadata": {},
   "outputs": [],
   "source": []
  },
  {
   "cell_type": "code",
   "execution_count": null,
   "metadata": {},
   "outputs": [],
   "source": [
    "# pitches_f = open('../pickles/pitches.pickle', 'rb')\n",
    "# pitches =  pickle.load(pitches_f)\n",
    "# pitches_f.close()"
   ]
  },
  {
   "cell_type": "code",
   "execution_count": null,
   "metadata": {},
   "outputs": [],
   "source": [
    "def gc_sentiment(text):  \n",
    "    \n",
    "    client = language.LanguageServiceClient()\n",
    "    document = language.types.Document(\n",
    "            content=text,\n",
    "            type=language.enums.Document.Type.PLAIN_TEXT)\n",
    "    annotations = client.analyze_sentiment(document=document)\n",
    "    score = annotations.document_sentiment.score\n",
    "    magnitude = annotations.document_sentiment.magnitude\n",
    "    return score, magnitude"
   ]
  },
  {
   "cell_type": "code",
   "execution_count": null,
   "metadata": {},
   "outputs": [],
   "source": [
    "# gc_results = [gc_sentiment(row) for row in tqdm(pitches['body'][:10], ncols = 100)]\n",
    "# gc_score, gc_magnitude = zip(*gc_results) # Unpacking the result into 2 lists\n",
    "# gc = list(zip(pitches['body'][:10], gc_score, gc_magnitude))\n",
    "# columns = ['body', 'score', 'magnitude']\n",
    "# gc_df = pd.DataFrame(gc, columns = columns)"
   ]
  },
  {
   "cell_type": "code",
   "execution_count": null,
   "metadata": {},
   "outputs": [],
   "source": [
    "positive_results\n"
   ]
  },
  {
   "cell_type": "code",
   "execution_count": null,
   "metadata": {
    "scrolled": false
   },
   "outputs": [],
   "source": [
    "str(pitches['body'][138])"
   ]
  },
  {
   "cell_type": "code",
   "execution_count": null,
   "metadata": {},
   "outputs": [],
   "source": [
    "str(list(pitches[pitches['id'] == '1cba4a35-6bed-4b72-8682-fc0c16fe3b54']['body']))"
   ]
  },
  {
   "cell_type": "code",
   "execution_count": null,
   "metadata": {},
   "outputs": [],
   "source": [
    "len(pitches['body'])"
   ]
  },
  {
   "cell_type": "code",
   "execution_count": null,
   "metadata": {},
   "outputs": [],
   "source": [
    "(pitches['body']==None).value_counts()"
   ]
  },
  {
   "cell_type": "code",
   "execution_count": null,
   "metadata": {},
   "outputs": [],
   "source": []
  },
  {
   "cell_type": "code",
   "execution_count": null,
   "metadata": {},
   "outputs": [],
   "source": []
  },
  {
   "cell_type": "code",
   "execution_count": null,
   "metadata": {},
   "outputs": [],
   "source": [
    "# for idx, pitch in enumerate(pitches['body']):\n",
    "#     if type(pitch) is type(None):\n",
    "#         pitches['body'].drop(idx, inplace=True)\n",
    "#         print(idx)\n",
    "#     if (len(pitch) < 10) or (type(pitch) == None):\n",
    "#         print(idx)\n",
    "#         pitches['body'].drop(idx, inplace=True)\n"
   ]
  },
  {
   "cell_type": "code",
   "execution_count": null,
   "metadata": {},
   "outputs": [],
   "source": []
  },
  {
   "cell_type": "code",
   "execution_count": null,
   "metadata": {},
   "outputs": [],
   "source": [
    "pitches_f = open('../pickles/pitches.pickle', 'rb')\n",
    "pitches =  pickle.load(pitches_f)\n",
    "pitches_f.close()"
   ]
  },
  {
   "cell_type": "code",
   "execution_count": null,
   "metadata": {},
   "outputs": [],
   "source": [
    "pos_id = results['pitch_id'].dropna().unique()\n",
    "pos_id"
   ]
  },
  {
   "cell_type": "code",
   "execution_count": null,
   "metadata": {},
   "outputs": [],
   "source": []
  },
  {
   "cell_type": "code",
   "execution_count": null,
   "metadata": {},
   "outputs": [],
   "source": [
    "pd.crosstab(pitches_with_results.contact_id, pitches_with_results.user_id)"
   ]
  },
  {
   "cell_type": "code",
   "execution_count": null,
   "metadata": {},
   "outputs": [],
   "source": [
    "pd.crosstab(pitches.contact_id, pitches.user_id).describe()"
   ]
  },
  {
   "cell_type": "code",
   "execution_count": null,
   "metadata": {},
   "outputs": [],
   "source": [
    "pitches_with_results.columns"
   ]
  },
  {
   "cell_type": "code",
   "execution_count": null,
   "metadata": {},
   "outputs": [],
   "source": []
  }
 ],
 "metadata": {
  "anaconda-cloud": {},
  "kernelspec": {
   "display_name": "Python [default]",
   "language": "python",
   "name": "python3"
  },
  "language_info": {
   "codemirror_mode": {
    "name": "ipython",
    "version": 3
   },
   "file_extension": ".py",
   "mimetype": "text/x-python",
   "name": "python",
   "nbconvert_exporter": "python",
   "pygments_lexer": "ipython3",
   "version": "3.5.5"
  }
 },
 "nbformat": 4,
 "nbformat_minor": 2
}
